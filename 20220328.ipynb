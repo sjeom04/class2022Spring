{
  "nbformat": 4,
  "nbformat_minor": 0,
  "metadata": {
    "colab": {
      "name": "20220328.ipynb",
      "provenance": [],
      "authorship_tag": "ABX9TyPvhbc2AHJp/xoHLEW/4AU3",
      "include_colab_link": true
    },
    "kernelspec": {
      "name": "python3",
      "display_name": "Python 3"
    },
    "language_info": {
      "name": "python"
    }
  },
  "cells": [
    {
      "cell_type": "markdown",
      "metadata": {
        "id": "view-in-github",
        "colab_type": "text"
      },
      "source": [
        "<a href=\"https://colab.research.google.com/github/sjeom04/class2022Spring/blob/main/20220328.ipynb\" target=\"_parent\"><img src=\"https://colab.research.google.com/assets/colab-badge.svg\" alt=\"Open In Colab\"/></a>"
      ]
    },
    {
      "cell_type": "code",
      "execution_count": null,
      "metadata": {
        "id": "frKOd0-VHoD5"
      },
      "outputs": [],
      "source": [
        "!pip install gradio\n",
        "import gradio as gr\n",
        "import requests\n",
        "import pandas as pd"
      ]
    },
    {
      "cell_type": "code",
      "source": [
        "def voting_rate(sidoname):\n",
        "  URL = ('http://apis.data.go.kr/9760000/ErVotingSttusInfoInqireService/getErVotingSttusInfoInqire?pageNo=1&numOfRows=10&resultType=json&sgId=20220309&erVotingDiv=0&sdName='+sidoname+'&serviceKey=oUhOOFdSP0Y%2FItJV1frhxF14eO3nptyk7ztFmEfFghFCSdi0wuNhho1jZeTMEvUwVtnol9usDlHGUUtsz4nJ4w%3D%3D')\n",
        "  \n",
        "  response = requests.get(URL)\n",
        "  r = response.json()\n",
        "\n",
        "  items = r['getErVotingSttusInfoInqire']['item']\n",
        "  WIW_NAME = [item['WIW_NAME']for item in items]\n",
        "  ER_VOTING_CNT = [item['ER_VOTING_CNT'] for item in items]\n",
        "  ER_TURNOUT = [item['ER_TURNOUT'] for item in items]\n",
        "\n",
        "  WIW_NAME = pd.Series(WIW_NAME)\n",
        "  ER_VOTING_CNT = pd.Series(ER_VOTING_CNT)\n",
        "  ER_TURNOUT = pd.Series(ER_TURNOUT)\n",
        "  \n",
        "  df = pd.DataFrame({'구시군명' : WIW_NAME, '사전투표자수':ER_VOTING_CNT, '사전투표율':ER_TURNOUT})\n",
        "  df1 = df.drop(0, axis=0)\n",
        "  df1.loc['',:] = df.loc[0,:]\n",
        "  \n",
        "  return df1\n",
        "\n",
        "iface = gr.Interface(voting_rate, gr.inputs.Dropdown(['서울특별시', '부산광역시', '대구광역시', '인천광역시', '광주광역시', '대전광역시','울산광역시', '제주특별자치도','경기도','강원도','충청북도','충청남도','전라북도','전라남도','경상북도','경상남도','세종특별자치시']), outputs=['dataframe'])\n",
        "iface.launch(debug=True)"
      ],
      "metadata": {
        "colab": {
          "base_uri": "https://localhost:8080/",
          "height": 665
        },
        "id": "GyQvcmJLH0XE",
        "outputId": "42c1a585-62fa-403c-aaec-11b9a9ddb669"
      },
      "execution_count": 9,
      "outputs": [
        {
          "output_type": "stream",
          "name": "stdout",
          "text": [
            "Colab notebook detected. This cell will run indefinitely so that you can see errors and logs. To turn off, set debug=False in launch().\n",
            "Running on public URL: https://20012.gradio.app\n",
            "\n",
            "This share link expires in 72 hours. For free permanent hosting, check out Spaces (https://huggingface.co/spaces)\n"
          ]
        },
        {
          "output_type": "display_data",
          "data": {
            "text/plain": [
              "<IPython.lib.display.IFrame at 0x7f4145294c10>"
            ],
            "text/html": [
              "\n",
              "        <iframe\n",
              "            width=\"900\"\n",
              "            height=\"500\"\n",
              "            src=\"https://20012.gradio.app\"\n",
              "            frameborder=\"0\"\n",
              "            allowfullscreen\n",
              "        ></iframe>\n",
              "        "
            ]
          },
          "metadata": {}
        },
        {
          "output_type": "stream",
          "name": "stdout",
          "text": [
            "Keyboard interruption in main thread... closing server.\n"
          ]
        },
        {
          "output_type": "execute_result",
          "data": {
            "text/plain": [
              "(<fastapi.applications.FastAPI at 0x7f414d61e590>,\n",
              " 'http://127.0.0.1:7860/',\n",
              " 'https://20012.gradio.app')"
            ]
          },
          "metadata": {},
          "execution_count": 9
        }
      ]
    }
  ]
}