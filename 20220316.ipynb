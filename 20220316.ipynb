{
  "nbformat": 4,
  "nbformat_minor": 0,
  "metadata": {
    "colab": {
      "name": "20220316.ipynb",
      "provenance": [],
      "authorship_tag": "ABX9TyNjrEuvcB1o9V+q6UkFXLoH",
      "include_colab_link": true
    },
    "kernelspec": {
      "name": "python3",
      "display_name": "Python 3"
    },
    "language_info": {
      "name": "python"
    }
  },
  "cells": [
    {
      "cell_type": "markdown",
      "metadata": {
        "id": "view-in-github",
        "colab_type": "text"
      },
      "source": [
        "<a href=\"https://colab.research.google.com/github/sjeom04/class2022Spring/blob/main/20220316.ipynb\" target=\"_parent\"><img src=\"https://colab.research.google.com/assets/colab-badge.svg\" alt=\"Open In Colab\"/></a>"
      ]
    },
    {
      "cell_type": "code",
      "execution_count": 1,
      "metadata": {
        "colab": {
          "base_uri": "https://localhost:8080/"
        },
        "id": "__OjUB2dt8jS",
        "outputId": "07bdbf87-4c18-44d7-9026-ce4d85912889"
      },
      "outputs": [
        {
          "output_type": "stream",
          "name": "stdout",
          "text": [
            "나\n"
          ]
        }
      ],
      "source": [
        "a = '가나다' ; print(a[1])"
      ]
    },
    {
      "cell_type": "code",
      "source": [
        "b = ['가', ['나', 1]] ; print(b[1]) ; print(b[1][1])"
      ],
      "metadata": {
        "colab": {
          "base_uri": "https://localhost:8080/"
        },
        "id": "dHIcrud5uh3M",
        "outputId": "b9a54c69-017f-4e86-8886-e183d93e6ab9"
      },
      "execution_count": 2,
      "outputs": [
        {
          "output_type": "stream",
          "name": "stdout",
          "text": [
            "['나', 1]\n",
            "1\n"
          ]
        }
      ]
    },
    {
      "cell_type": "code",
      "source": [
        "c = {'가':135, 'a':'abc'}\n",
        "print(c['가'])"
      ],
      "metadata": {
        "colab": {
          "base_uri": "https://localhost:8080/"
        },
        "id": "KYFoiry8vGTH",
        "outputId": "55abc36f-889b-46f0-a8c4-fdac97983873"
      },
      "execution_count": 3,
      "outputs": [
        {
          "output_type": "stream",
          "name": "stdout",
          "text": [
            "135\n"
          ]
        }
      ]
    },
    {
      "cell_type": "code",
      "source": [
        "s='가나다라마바'\n",
        "print(s[1:3]) ; print(s[:2])\n",
        "len(s)"
      ],
      "metadata": {
        "colab": {
          "base_uri": "https://localhost:8080/"
        },
        "id": "XobHjIRzvnWm",
        "outputId": "0c35965b-7351-42bf-e0f4-993ede8061b9"
      },
      "execution_count": 5,
      "outputs": [
        {
          "output_type": "stream",
          "name": "stdout",
          "text": [
            "나다\n",
            "가나\n"
          ]
        },
        {
          "output_type": "execute_result",
          "data": {
            "text/plain": [
              "6"
            ]
          },
          "metadata": {},
          "execution_count": 5
        }
      ]
    },
    {
      "cell_type": "code",
      "source": [
        "s=' a man is a teacher  '\n",
        "print(s.find('a'))\n",
        "s.strip()"
      ],
      "metadata": {
        "colab": {
          "base_uri": "https://localhost:8080/",
          "height": 54
        },
        "id": "3kU9dU6uwDBi",
        "outputId": "3678b6b2-65dd-4623-b117-f9c7aef33bc9"
      },
      "execution_count": 8,
      "outputs": [
        {
          "output_type": "stream",
          "name": "stdout",
          "text": [
            "1\n"
          ]
        },
        {
          "output_type": "execute_result",
          "data": {
            "text/plain": [
              "'a man is a teacher'"
            ],
            "application/vnd.google.colaboratory.intrinsic+json": {
              "type": "string"
            }
          },
          "metadata": {},
          "execution_count": 8
        }
      ]
    },
    {
      "cell_type": "code",
      "source": [
        "tokens = s.split(' ')\n",
        "print(tokens)"
      ],
      "metadata": {
        "colab": {
          "base_uri": "https://localhost:8080/"
        },
        "id": "IIREVZwgwnX3",
        "outputId": "c5d465ce-3a6c-4a11-8ffb-d742b6db95a3"
      },
      "execution_count": 11,
      "outputs": [
        {
          "output_type": "stream",
          "name": "stdout",
          "text": [
            "['', 'a', 'man', 'is', 'a', 'teacher', '', '']\n"
          ]
        }
      ]
    },
    {
      "cell_type": "code",
      "source": [
        "abc=' '.join(tokens) \n",
        "abc"
      ],
      "metadata": {
        "colab": {
          "base_uri": "https://localhost:8080/",
          "height": 35
        },
        "id": "WN5o2UHAxGHd",
        "outputId": "9e1cd3e3-380f-47e2-dae0-2b8587def4ae"
      },
      "execution_count": 12,
      "outputs": [
        {
          "output_type": "execute_result",
          "data": {
            "text/plain": [
              "' a man is a teacher  '"
            ],
            "application/vnd.google.colaboratory.intrinsic+json": {
              "type": "string"
            }
          },
          "metadata": {},
          "execution_count": 12
        }
      ]
    },
    {
      "cell_type": "code",
      "source": [
        "a = [1, 2, 'apple', 'banana']\n",
        "for i in range(len(a)):\n",
        "    print(a[i])\n",
        "  "
      ],
      "metadata": {
        "colab": {
          "base_uri": "https://localhost:8080/"
        },
        "id": "MjGDQOYCxUiu",
        "outputId": "d58a47a0-80b4-4429-8c82-b3c0f5a48da6"
      },
      "execution_count": 13,
      "outputs": [
        {
          "output_type": "stream",
          "name": "stdout",
          "text": [
            "1\n",
            "2\n",
            "apple\n",
            "banana\n"
          ]
        }
      ]
    },
    {
      "cell_type": "markdown",
      "source": [
        "for은 반복문. if는 조건문.\n",
        "range의 의미는 만약 range(4)라면 [0,1,2,3]이라는 리스트가 만들어진다."
      ],
      "metadata": {
        "id": "JHvvCTjw2qgp"
      }
    },
    {
      "cell_type": "code",
      "source": [
        "for i in range(2,5):\n",
        "    for j in range(1,4):\n",
        "      if j>=1:\n",
        "        print(i+j)"
      ],
      "metadata": {
        "colab": {
          "base_uri": "https://localhost:8080/"
        },
        "id": "PbUe8HBox5NH",
        "outputId": "a6678beb-3595-4560-8af7-bf3b867453b4"
      },
      "execution_count": 14,
      "outputs": [
        {
          "output_type": "stream",
          "name": "stdout",
          "text": [
            "3\n",
            "4\n",
            "5\n",
            "4\n",
            "5\n",
            "6\n",
            "5\n",
            "6\n",
            "7\n"
          ]
        }
      ]
    },
    {
      "cell_type": "code",
      "source": [
        "a=['apple', 'banana', '1', '12']\n",
        "b = [i for i in a if len(i)>=2]\n",
        "b"
      ],
      "metadata": {
        "colab": {
          "base_uri": "https://localhost:8080/"
        },
        "id": "mODrz9RsyNzb",
        "outputId": "09f147ca-8684-4b51-dfc7-729a64cc6c52"
      },
      "execution_count": 17,
      "outputs": [
        {
          "output_type": "execute_result",
          "data": {
            "text/plain": [
              "['apple', 'banana', '12']"
            ]
          },
          "metadata": {},
          "execution_count": 17
        }
      ]
    },
    {
      "cell_type": "code",
      "source": [
        "import numpy as np"
      ],
      "metadata": {
        "id": "_hTxKM6Ey2AV"
      },
      "execution_count": 19,
      "outputs": []
    },
    {
      "cell_type": "markdown",
      "source": [
        "리스트는 계산이 될 수 없기 때문에 array로 바꿔줘야 함.\n",
        "arange는 arange(0,10,2)라고 했을 때 0부터 10을 포함하지 않고 10보다 작은 수까지 2만큼 증가하는 값을 리스트로 보여줌. 즉 [0,2,4,6,8]\n",
        "linspace의 경우에는 linspace(0,10,6)이라고 했을 때 0부터 10을 포함하여 10까지 총 6개의 숫자를 만들라는 의미. 즉 [0,2,4,6,8,10]"
      ],
      "metadata": {
        "id": "T7cNEJ7f3XIa"
      }
    },
    {
      "cell_type": "code",
      "source": [
        "x=np.array([1,3,5])\n",
        "y=np.arange(0,9,2)\n",
        "z=np.linspace(0,12,4)\n",
        "print(x) ; print(y) ; print(z)"
      ],
      "metadata": {
        "colab": {
          "base_uri": "https://localhost:8080/"
        },
        "id": "p1i7Tuj-y5Bz",
        "outputId": "dd823334-8242-4fed-ce61-e4ad7a69be45"
      },
      "execution_count": 23,
      "outputs": [
        {
          "output_type": "stream",
          "name": "stdout",
          "text": [
            "[1 3 5]\n",
            "[0 2 4 6 8]\n",
            "[ 0.  4.  8. 12.]\n"
          ]
        }
      ]
    },
    {
      "cell_type": "code",
      "source": [
        "x = np.array([[[1,2,3], [4,5,6]], [[7,8,9], [10,11,12]]])\n",
        "print(x)"
      ],
      "metadata": {
        "colab": {
          "base_uri": "https://localhost:8080/"
        },
        "id": "B8nBFjeUz-9X",
        "outputId": "4c35d948-8a00-4a3e-809e-3234174350d7"
      },
      "execution_count": 25,
      "outputs": [
        {
          "output_type": "stream",
          "name": "stdout",
          "text": [
            "[[[ 1  2  3]\n",
            "  [ 4  5  6]]\n",
            "\n",
            " [[ 7  8  9]\n",
            "  [10 11 12]]]\n"
          ]
        }
      ]
    },
    {
      "cell_type": "markdown",
      "source": [
        "matplotlib.pyplot.hist(n)는 히스토그램을 그려주는 것"
      ],
      "metadata": {
        "id": "cT7QDU6N46Hn"
      }
    },
    {
      "cell_type": "code",
      "source": [
        "import matplotlib.pyplot as plt"
      ],
      "metadata": {
        "id": "WFdf4m8o0jTr"
      },
      "execution_count": 26,
      "outputs": []
    },
    {
      "cell_type": "markdown",
      "source": [
        "random.normal(평균, 표준편차, 행렬 크기) / bins는 막대기 개수를 의미"
      ],
      "metadata": {
        "id": "9H93s30I4X2O"
      }
    },
    {
      "cell_type": "code",
      "source": [
        "x = np.random.normal(0,2,100)\n",
        "print(x)\n",
        "plt.hist(x, bins=10)"
      ],
      "metadata": {
        "colab": {
          "base_uri": "https://localhost:8080/",
          "height": 664
        },
        "id": "Twal9MnK0oxt",
        "outputId": "835adb6b-77ca-4dd0-ec95-0b304079389e"
      },
      "execution_count": 28,
      "outputs": [
        {
          "output_type": "stream",
          "name": "stdout",
          "text": [
            "[ 1.34635362 -1.04502136  0.3940988   3.62879694  0.94051494 -0.8440337\n",
            " -0.60897265  0.63859777  0.2247012  -1.96176775  0.03862213 -0.97913766\n",
            "  0.7994245   4.30522308  0.93442696  4.17585407  1.22249077 -3.01784934\n",
            "  0.30851343 -0.97845476 -0.57127626 -0.89700613 -0.58384086 -2.02147363\n",
            " -1.88363965  1.44570644  0.20838828  1.55833478 -2.45314379  1.99395828\n",
            " -3.55361859  1.19888979 -1.87999223  1.10979571  0.61836701  2.40874747\n",
            "  2.6855875   1.03285804 -0.99527518 -3.65480524 -4.64158526  2.55913446\n",
            "  0.568273    0.96988342  0.39680845 -0.60608346  1.69062784 -1.07660461\n",
            "  1.93449752 -0.13217281 -0.40704933 -0.84014089 -1.24353476  0.22194886\n",
            "  2.63444284  0.9599158   1.872419   -1.89292587 -1.2449827   1.05016717\n",
            " -2.48956132  6.73293007 -1.23029855  1.33835483  1.59734625  1.72812976\n",
            "  0.9077226  -0.58457279 -2.08727713 -1.01136796  1.54527611 -3.46126954\n",
            " -2.75486181 -5.21844756 -1.11581924  1.0539288   2.59329817 -1.61458243\n",
            " -0.80769046 -1.17490105  3.36686885  0.10105937 -0.80914026  1.91709298\n",
            " -0.90460093 -1.3111624  -1.98911274  0.49162516 -1.66694368 -1.22805633\n",
            "  2.19665254 -0.83727103  2.16162185 -1.65833183 -0.21332479  2.8078342\n",
            "  0.59841296  0.43600727 -1.90832127  0.23751946]\n"
          ]
        },
        {
          "output_type": "execute_result",
          "data": {
            "text/plain": [
              "(array([ 2.,  4., 13., 26., 18., 23.,  9.,  4.,  0.,  1.]),\n",
              " array([-5.21844756, -4.0233098 , -2.82817203, -1.63303427, -0.43789651,\n",
              "         0.75724125,  1.95237902,  3.14751678,  4.34265454,  5.5377923 ,\n",
              "         6.73293007]),\n",
              " <a list of 10 Patch objects>)"
            ]
          },
          "metadata": {},
          "execution_count": 28
        },
        {
          "output_type": "display_data",
          "data": {
            "text/plain": [
              "<Figure size 432x288 with 1 Axes>"
            ],
            "image/png": "[encoded data removed]"
          },
          "metadata": {
            "needs_background": "light"
          }
        }
      ]
    },
    {
      "cell_type": "markdown",
      "source": [
        "plt.subplot(row의 수, column의 수, 그 중에서 몇 번째에 그림을 그릴지) /\n",
        "plt.plot(x값, y값, 그림을 그릴 모양)"
      ],
      "metadata": {
        "id": "pwFPIYKg5LeD"
      }
    },
    {
      "cell_type": "code",
      "source": [
        "plt.figure()\n",
        "theta1 = np.linspace(1, 2*np.pi, 50)\n",
        "s1 = np.sin(theta1)\n",
        "theta2 = np.linspace(0, 2*np.pi, 50) + np.pi/2\n",
        "s2 = np.sin(theta2)\n",
        "\n",
        "plt.subplot(2, 1, 1)\n",
        "plt.plot(theta1, s1, \"-\")\n",
        "plt.subplot(2,1,2)\n",
        "plt.plot(theta2, s2, \"-\")"
      ],
      "metadata": {
        "colab": {
          "base_uri": "https://localhost:8080/",
          "height": 283
        },
        "id": "Mgsq_Xxt08Va",
        "outputId": "750b2003-8ed9-412f-f497-370c8b5ced8a"
      },
      "execution_count": 30,
      "outputs": [
        {
          "output_type": "execute_result",
          "data": {
            "text/plain": [
              "[<matplotlib.lines.Line2D at 0x7f5596be5e10>]"
            ]
          },
          "metadata": {},
          "execution_count": 30
        },
        {
          "output_type": "display_data",
          "data": {
            "text/plain": [
              "<Figure size 432x288 with 2 Axes>"
            ],
            "image/png": "[encoded data removed]"
          },
          "metadata": {
            "needs_background": "light"
          }
        }
      ]
    },
    {
      "cell_type": "markdown",
      "source": [
        "corrcoef에서는 -1과 1 사이의 값이 나옴. +값이 나오면 정비례, -값이 나오면 반비례. 절대값이 1에 가까울수록 상관관계가 더 높은 것."
      ],
      "metadata": {
        "id": "ekrOF3E45qNr"
      }
    },
    {
      "cell_type": "code",
      "source": [
        "np.corrcoef(s1, s2)"
      ],
      "metadata": {
        "colab": {
          "base_uri": "https://localhost:8080/"
        },
        "id": "A9BhZ7nz1-YC",
        "outputId": "b8b92e8e-51ff-45e0-db89-c4985ada4c20"
      },
      "execution_count": 31,
      "outputs": [
        {
          "output_type": "execute_result",
          "data": {
            "text/plain": [
              "array([[1.        , 0.41401472],\n",
              "       [0.41401472, 1.        ]])"
            ]
          },
          "metadata": {},
          "execution_count": 31
        }
      ]
    }
  ]
}