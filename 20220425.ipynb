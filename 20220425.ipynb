{
  "nbformat": 4,
  "nbformat_minor": 0,
  "metadata": {
    "colab": {
      "name": "20220425.ipynb",
      "provenance": [],
      "authorship_tag": "ABX9TyMa9kFBwhmjrDlpX0eKQgeG",
      "include_colab_link": true
    },
    "kernelspec": {
      "name": "python3",
      "display_name": "Python 3"
    },
    "language_info": {
      "name": "python"
    }
  },
  "cells": [
    {
      "cell_type": "markdown",
      "metadata": {
        "id": "view-in-github",
        "colab_type": "text"
      },
      "source": [
        "<a href=\"https://colab.research.google.com/github/sjeom04/class2022Spring/blob/main/20220425.ipynb\" target=\"_parent\"><img src=\"https://colab.research.google.com/assets/colab-badge.svg\" alt=\"Open In Colab\"/></a>"
      ]
    },
    {
      "cell_type": "markdown",
      "source": [
        "Auto correlation(자기상관)\n",
        "\n",
        "\n",
        "\n",
        "*   말 그대로 correlation을 자기 자신의 데이터에 대해서 한 것. 이 때, 시간항에 대해서 shifted된 자기 자신에 대해서 correlation한 것\n",
        "\n",
        "*   시간 또는 공간적으로 연속된 일련의 관측치들 간에 존재하는 상관관계로서 시계열 데이터에 내재하는 시점간의 상관\n",
        "*   동일한 시간구간으로 나누어진 벡터로 구성된 시계열 자료에서 현재의 개체수가 이전의 개체수와 어떻게 연관이 되어 있는가를 나타낸 것\n"
      ],
      "metadata": {
        "id": "7jfMSufiiTML"
      }
    },
    {
      "cell_type": "markdown",
      "source": [
        "RMS(root mean square)\n",
        "\n",
        "\n",
        "*   항상 균일하게 증폭이 되는 출력을 크기로 표시한 것\n",
        "*   원래의 값의 제곱들에 대한 산술평균의 제곱근\n",
        "*   RMS 값은 사인파형의 에너지인 진폭과 관련 있으며 주파수와는 무관\n",
        "\n",
        "\n"
      ],
      "metadata": {
        "id": "eUmtWDclkKD3"
      }
    },
    {
      "cell_type": "markdown",
      "source": [
        ""
      ],
      "metadata": {
        "id": "2Y_Byi4Ui4mb"
      }
    }
  ]
}